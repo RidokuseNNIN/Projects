{
 "cells": [
  {
   "cell_type": "code",
   "execution_count": 1,
   "metadata": {},
   "outputs": [
    {
     "name": "stdout",
     "output_type": "stream",
     "text": [
      "[1, 2, 3, 4, 5, 6, 7, 8, 9, 10, 11, 12, 13, 14, 15, 16, 17, 18, 19, 20, 21, 22, 23, 24, 25, 26, 27, 28, 29, 30, 31, 32, 33, 34, 35, 36, 37, 38, 39, 40, 41, 42, 43, 44, 45, 46, 47, 48, 49, 50, 51, 52, 53, 54, 55, 56, 57, 58, 59, 60, 61, 62, 63, 64, 65, 66, 67, 68, 69, 70, 71, 72, 73, 74, 75, 76, 77, 78, 79, 80, 81, 82, 83, 84, 85, 86, 87, 88, 89, 90, 91, 92, 93, 94, 95, 96, 97, 98, 99, 100]\n"
     ]
    }
   ],
   "source": [
    "#Twórz listę liczb od 1 do 100\n",
    "lista = list(range(1,101))\n",
    "print(lista)"
   ]
  },
  {
   "cell_type": "code",
   "execution_count": 2,
   "metadata": {},
   "outputs": [
    {
     "name": "stdout",
     "output_type": "stream",
     "text": [
      "[1, 2, 3, 4, 5, 6, 7, 8, 9, 10, 11, 12, 13, 14, 15, 16, 17, 18, 19, 20, 21, 22, 23, 24, 25, 26, 27, 28, 29, 30, 31, 32, 33, 34, 35, 36, 37, 38, 39, 40, 41, 42, 43, 44, 45, 46, 47, 48, 49, 50, 51, 52, 53, 54, 55, 56, 57, 58, 59, 60, 61, 62, 63, 64, 65, 66, 67, 68, 69, 70, 71, 72, 73, 74, 75, 76, 77, 78, 79, 80, 81, 82, 83, 84, 85, 86, 87, 88, 89, 90, 91, 92, 93, 94, 95, 96, 97, 98, 99, 100, 101]\n"
     ]
    }
   ],
   "source": [
    "# Dodaj nowy element do listy \n",
    "lista = list(range(1,101))\n",
    "lista.append(101)\n",
    "print(lista)"
   ]
  },
  {
   "cell_type": "code",
   "execution_count": 4,
   "metadata": {},
   "outputs": [
    {
     "name": "stdout",
     "output_type": "stream",
     "text": [
      "[2, 3, 4, 5, 6, 7, 8, 9, 10, 11, 12, 13, 14, 15, 16, 17, 18, 19, 20, 21, 22, 23, 24, 25, 26, 27, 28, 29, 30, 31, 32, 33, 34, 35, 36, 37, 38, 39, 40, 41, 42, 43, 44, 45, 46, 47, 48, 49, 50, 51, 52, 53, 54, 55, 56, 57, 58, 59, 60, 61, 62, 63, 64, 65, 66, 67, 68, 69, 70, 71, 72, 73, 74, 75, 76, 77, 78, 79, 80, 81, 82, 83, 84, 85, 86, 87, 88, 89, 90, 91, 92, 93, 94, 95, 96, 97, 98, 99, 100]\n"
     ]
    }
   ],
   "source": [
    "#usun pierwszy element z listy \n",
    "# Dodaj nowy element do listy \n",
    "lista = list(range(1,101))\n",
    "lista.remove(1)\n",
    "print(lista)"
   ]
  },
  {
   "cell_type": "code",
   "execution_count": 7,
   "metadata": {},
   "outputs": [
    {
     "name": "stdout",
     "output_type": "stream",
     "text": [
      "1\n"
     ]
    }
   ],
   "source": [
    "#Znajdź indeks pierwszego wystąpienia danej wartości w liście.\n",
    "lista = list(range(1,101))\n",
    "lista_index =lista.count(1)\n",
    "print(lista_index)"
   ]
  },
  {
   "cell_type": "code",
   "execution_count": 9,
   "metadata": {},
   "outputs": [
    {
     "name": "stdout",
     "output_type": "stream",
     "text": [
      "3\n"
     ]
    }
   ],
   "source": [
    "#Zadanie 5: Policz liczbę wystąpień danego elementu w liście\n",
    "lista =[10,101,290430,10,21,10]\n",
    "lista_powtarzanie=lista.count(10)\n",
    "print(lista_powtarzanie)"
   ]
  },
  {
   "cell_type": "code",
   "execution_count": 17,
   "metadata": {},
   "outputs": [
    {
     "name": "stdout",
     "output_type": "stream",
     "text": [
      "[10, 10, 10, 21, 101, 290430]\n"
     ]
    }
   ],
   "source": [
    "#Zadanie 6: Posortuj listę rosnąco\n",
    "lista =[10,101,290430,10,21,10]\n",
    "lista_rosnaco=sorted(lista)\n",
    "print(lista_rosnaco)"
   ]
  },
  {
   "cell_type": "code",
   "execution_count": 24,
   "metadata": {},
   "outputs": [
    {
     "name": "stdout",
     "output_type": "stream",
     "text": [
      "[290430, 101, 21, 10, 10, 10]\n"
     ]
    }
   ],
   "source": [
    "#Zadanie 7: Posortuj listę malejąco\n",
    "lista =[10,101,290430,10,21,10]\n",
    "lista_malejaco=sorted(lista,reverse=True)\n",
    "print(lista_malejaco)"
   ]
  },
  {
   "cell_type": "code",
   "execution_count": 33,
   "metadata": {},
   "outputs": [
    {
     "name": "stdout",
     "output_type": "stream",
     "text": [
      "[10, 21, 10, 290430, 101, 10]\n"
     ]
    }
   ],
   "source": [
    "#Zadanie 8: Odwróć kolejność elementów w liście\n",
    "lista =[10,101,290430,10,21,10]\n",
    "lista.reverse()\n",
    "print(lista)"
   ]
  },
  {
   "cell_type": "code",
   "execution_count": 41,
   "metadata": {},
   "outputs": [
    {
     "name": "stdout",
     "output_type": "stream",
     "text": [
      "290430\n"
     ]
    }
   ],
   "source": [
    "#Zadanie 9: Znajdź największy element w liście\n",
    "lista =[10,101,290430,10,21,10]\n",
    "lista_max =max(lista)\n",
    "print(lista_max)"
   ]
  },
  {
   "cell_type": "code",
   "execution_count": 42,
   "metadata": {},
   "outputs": [
    {
     "name": "stdout",
     "output_type": "stream",
     "text": [
      "10\n"
     ]
    }
   ],
   "source": [
    "#Zadanie 10: Znajdź najmniejszy element w liście\n",
    "lista =[10,101,290430,10,21,10]\n",
    "lista_min =min(lista)\n",
    "print(lista_min)"
   ]
  },
  {
   "cell_type": "code",
   "execution_count": 43,
   "metadata": {},
   "outputs": [
    {
     "name": "stdout",
     "output_type": "stream",
     "text": [
      "[100, 10201, 4120900, 100, 441, 100]\n"
     ]
    }
   ],
   "source": [
    "#Zadanie 11: Stwórz nową listę, zawierającą kwadraty liczb z oryginalnej listy\n",
    "lista =[10,101,2030,10,21,10]\n",
    "lista1=[x**2 for x in lista]\n",
    "print(lista1)"
   ]
  },
  {
   "cell_type": "code",
   "execution_count": 44,
   "metadata": {},
   "outputs": [
    {
     "name": "stdout",
     "output_type": "stream",
     "text": [
      "{10, 21, 101, 2030}\n"
     ]
    }
   ],
   "source": [
    "#Zadanie 12: Usuń duplikaty z listy\n",
    "lista =[10,101,2030,10,21,10]\n",
    "lista_1 = set(lista)\n",
    "print(lista_1)"
   ]
  },
  {
   "cell_type": "code",
   "execution_count": 46,
   "metadata": {},
   "outputs": [
    {
     "name": "stdout",
     "output_type": "stream",
     "text": [
      "Pierwsza połowa: [10, 101, 2030]\n",
      "Druga połowa: [10, 21, 10]\n"
     ]
    }
   ],
   "source": [
    "#Zadanie 13: Podziel listę na dwie równe części\n",
    "# Lista do podziału\n",
    "lista = [10, 101, 2030, 10, 21, 10]\n",
    "\n",
    "# Obliczenie środkowego indeksu\n",
    "srodek = len(lista) // 2\n",
    "\n",
    "# Podział listy na dwie części\n",
    "pierwsza_polowa = lista[:srodek]\n",
    "druga_polowa = lista[srodek:]\n",
    "\n",
    "# Wyświetlenie wyników\n",
    "print(\"Pierwsza połowa:\", pierwsza_polowa)\n",
    "print(\"Druga połowa:\", druga_polowa)"
   ]
  },
  {
   "cell_type": "code",
   "execution_count": 49,
   "metadata": {},
   "outputs": [
    {
     "name": "stdout",
     "output_type": "stream",
     "text": [
      "[20, 40]\n",
      "[10, 30, 50]\n"
     ]
    }
   ],
   "source": [
    "#Zadanie 14: Usuń elementy o parzystych indeksach\n",
    "lista = [10, 20, 30, 40, 50]\n",
    "parzyste= []\n",
    "nieparzyste = []\n",
    "for i in range(len(lista)):\n",
    "    if i %2 !=0:\n",
    "        parzyste.append(lista[i])\n",
    "    else :\n",
    "        nieparzyste.append(lista[i])\n",
    "print(parzyste)\n",
    "print(nieparzyste)\n",
    "    "
   ]
  },
  {
   "cell_type": "code",
   "execution_count": 52,
   "metadata": {},
   "outputs": [
    {
     "name": "stdout",
     "output_type": "stream",
     "text": [
      "[10, 10, 10, 21, 101, 2030]\n"
     ]
    }
   ],
   "source": [
    "#Zadanie 15: Posortuj listę w porządku rosnącym (od najmniejszego do największego)\n",
    "lista = [10, 101, 2030, 10, 21, 10]\n",
    "lista_sorted = sorted(lista)\n",
    "print(lista_sorted)\n"
   ]
  },
  {
   "cell_type": "code",
   "execution_count": 53,
   "metadata": {},
   "outputs": [
    {
     "name": "stdout",
     "output_type": "stream",
     "text": [
      "[2030, 101, 21, 10, 10, 10]\n"
     ]
    }
   ],
   "source": [
    "#Zadanie 16: Posortuj listę w porządku malejącym (od największego do najmniejszego)\n",
    "lista = [10, 101, 2030, 10, 21, 10]\n",
    "lista_malejaco=sorted(lista,reverse=True)\n",
    "print(lista_malejaco)"
   ]
  },
  {
   "cell_type": "code",
   "execution_count": 57,
   "metadata": {},
   "outputs": [
    {
     "name": "stdout",
     "output_type": "stream",
     "text": [
      "[10, 2030, 10, 10]\n"
     ]
    }
   ],
   "source": [
    "#Zadanie 17: Stwórz nową listę, zawierającą tylko parzyste liczby z oryginalnej listy\n",
    "lista = [10, 101, 2030, 10, 21, 10]\n",
    "parzyste = []\n",
    "for i in lista:\n",
    "    if i %2 ==0:\n",
    "        parzyste.append(i)\n",
    "print(parzyste)\n"
   ]
  },
  {
   "cell_type": "code",
   "execution_count": 61,
   "metadata": {},
   "outputs": [
    {
     "name": "stdout",
     "output_type": "stream",
     "text": [
      "101\n"
     ]
    }
   ],
   "source": [
    "#Zadanie 18: Napisz funkcję, która zwraca n-tą największą liczbę z listy\n",
    "import heapq\n",
    "\n",
    "import heapq\n",
    "\n",
    "def nth_largest(n, lista):\n",
    "    return heapq.nlargest(n, lista)[-1]  # Zwraca n-tą największą liczbę\n",
    "\n",
    "# Przykład użycia:\n",
    "lista = [10, 101, 2030, 10, 21, 10]\n",
    "n = 2\n",
    "print(nth_largest(n, lista))  # Wypisuje drugą największą liczbę"
   ]
  },
  {
   "cell_type": "code",
   "execution_count": null,
   "metadata": {},
   "outputs": [],
   "source": [
    "#Zadanie 19: Napisz funkcję, która usuwa wszystkie duplikaty z listy\n",
    "def remove_duplicates(lista):\n",
    "    return list(dict.fromkeys(lista))\n",
    "\n",
    "# Przykład użycia:\n",
    "lista = [10, 20, 30, 20, 40, 50, 30]\n",
    "print(remove_duplicates(lista))  # Wynik: [10, 20, 30, 40, 50]"
   ]
  },
  {
   "cell_type": "code",
   "execution_count": 1,
   "metadata": {},
   "outputs": [
    {
     "name": "stdout",
     "output_type": "stream",
     "text": [
      "{'h': 1, 'e': 1, 'l': 3, 'o': 2, ' ': 1, 'w': 1, 'r': 1, 'd': 1}\n"
     ]
    }
   ],
   "source": [
    "#Zadanie 20: Stwórz funkcję, która zlicza liczbę wystąpień każdej litery w napisie\n",
    "def count_letters(napis):\n",
    "    letter_count = {}\n",
    "    for letter in napis:\n",
    "        if letter in letter_count:\n",
    "            letter_count[letter] += 1\n",
    "        else:\n",
    "            letter_count[letter] = 1\n",
    "    return letter_count\n",
    "\n",
    "# Przykład użycia:\n",
    "napis = \"hello world\"\n",
    "print(count_letters(napis)) "
   ]
  },
  {
   "cell_type": "code",
   "execution_count": null,
   "metadata": {},
   "outputs": [
    {
     "ename": "NameError",
     "evalue": "name 'lista_1' is not defined",
     "output_type": "error",
     "traceback": [
      "\u001b[1;31m---------------------------------------------------------------------------\u001b[0m",
      "\u001b[1;31mNameError\u001b[0m                                 Traceback (most recent call last)",
      "Cell \u001b[1;32mIn[3], line 3\u001b[0m\n\u001b[0;32m      1\u001b[0m \u001b[38;5;66;03m#Zadanie 21: Sprawdź, czy lista jest palindromem\u001b[39;00m\n\u001b[0;32m      2\u001b[0m lista \u001b[38;5;241m=\u001b[39m [\u001b[38;5;241m1\u001b[39m, \u001b[38;5;241m2\u001b[39m, \u001b[38;5;241m3\u001b[39m, \u001b[38;5;241m2\u001b[39m, \u001b[38;5;241m1\u001b[39m]\n\u001b[1;32m----> 3\u001b[0m \u001b[43mlista_1\u001b[49m [::\u001b[38;5;241m-\u001b[39m\u001b[38;5;241m1\u001b[39m]\n\u001b[0;32m      4\u001b[0m lista_1\u001b[38;5;241m=\u001b[39mlista\n\u001b[0;32m      5\u001b[0m \u001b[38;5;28mprint\u001b[39m(lista1)\n",
      "\u001b[1;31mNameError\u001b[0m: name 'lista_1' is not defined"
     ]
    }
   ],
   "source": [
    "#Zadanie 21: Sprawdź, czy lista jest palindromem\n",
    "lista = [1, 2, 3, 2, 1]\n",
    "\n",
    "# Tworzymy odwrotność listy\n",
    "lista_odwrocona = lista[::-1]\n",
    "\n",
    "# Sprawdzamy, czy lista jest palindromem\n",
    "if lista == lista_odwrocona:\n",
    "    print(\"Lista jest palindromem\")\n",
    "else:\n",
    "    print(\"Lista nie jest palindromem\")"
   ]
  },
  {
   "cell_type": "code",
   "execution_count": 5,
   "metadata": {},
   "outputs": [
    {
     "name": "stdout",
     "output_type": "stream",
     "text": [
      "[1, 2, 3, 6, 7, 8]\n"
     ]
    }
   ],
   "source": [
    "#Zadanie 1: Znajdź różnicę między dwoma listami (elementy unikalne dla każdej z nich)\n",
    "llista1 = [1, 2, 3, 4, 5]\n",
    "lista2 = [4, 5, 6, 7, 8]\n",
    "\n",
    "# Przekształcamy listy na zbiory\n",
    "set1 = set(lista1)\n",
    "set2 = set(lista2)\n",
    "\n",
    "# Używamy symmetric_difference\n",
    "wynik = set1.symmetric_difference(set2)\n",
    "\n",
    "# Jeśli chcesz wynik w formie listy\n",
    "wynik_lista = list(wynik)\n",
    "\n",
    "print(wynik_lista)"
   ]
  },
  {
   "cell_type": "code",
   "execution_count": 9,
   "metadata": {},
   "outputs": [
    {
     "name": "stdout",
     "output_type": "stream",
     "text": [
      "[]\n"
     ]
    }
   ],
   "source": [
    "#Zadanie 2: Znajdź indeks wszystkich wystąpień danego elementu\n",
    "llista = [10, 20, 30, 20, 40, 20]\n",
    "szukana_wartosc = 20\n",
    "indeksy = []\n",
    "\n",
    "for i, element in enumerate(lista):  # \"i\" to indeks, \"element\" to wartość w liście\n",
    "    if element == szukana_wartosc:  # Jeśli wartość jest równa poszukiwanej\n",
    "        indeksy.append(i)  # Dodaj indeks do listy\n",
    "\n",
    "print(indeksy)  # Wynik: [1, 3, 5"
   ]
  },
  {
   "cell_type": "code",
   "execution_count": null,
   "metadata": {},
   "outputs": [],
   "source": [
    "#Zadanie 3: Usuń wszystkie elementy z listy, które nie są liczbami"
   ]
  }
 ],
 "metadata": {
  "kernelspec": {
   "display_name": "Python 3",
   "language": "python",
   "name": "python3"
  },
  "language_info": {
   "codemirror_mode": {
    "name": "ipython",
    "version": 3
   },
   "file_extension": ".py",
   "mimetype": "text/x-python",
   "name": "python",
   "nbconvert_exporter": "python",
   "pygments_lexer": "ipython3",
   "version": "3.13.1"
  }
 },
 "nbformat": 4,
 "nbformat_minor": 2
}
